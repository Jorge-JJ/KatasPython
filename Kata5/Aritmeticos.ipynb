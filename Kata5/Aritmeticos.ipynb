{
 "cells": [
  {
   "cell_type": "markdown",
   "metadata": {},
   "source": [
    "Declaramos la distancia de nuestro punto a la tierra y a júpiter"
   ]
  },
  {
   "cell_type": "code",
   "execution_count": 23,
   "metadata": {},
   "outputs": [],
   "source": [
    "tierra=149597870\n",
    "jupiter=778547200"
   ]
  },
  {
   "cell_type": "markdown",
   "metadata": {},
   "source": [
    "Para calcular la distancia entre un punto a otro, entonces solo queda hacer una diferencia entre planetas"
   ]
  },
  {
   "cell_type": "code",
   "execution_count": 24,
   "metadata": {},
   "outputs": [
    {
     "name": "stdout",
     "output_type": "stream",
     "text": [
      "628949330km\n"
     ]
    }
   ],
   "source": [
    "distancia=jupiter-tierra\n",
    "print(str(distancia)+\"km\")"
   ]
  },
  {
   "cell_type": "markdown",
   "metadata": {},
   "source": [
    "Hacemos una conversion de kilometros a millas"
   ]
  },
  {
   "cell_type": "code",
   "execution_count": 25,
   "metadata": {},
   "outputs": [
    {
     "name": "stdout",
     "output_type": "stream",
     "text": [
      "390577533.93 millas\n"
     ]
    }
   ],
   "source": [
    "distanciaMillas=distancia*0.621\n",
    "print(str(distanciaMillas)+\" millas\")"
   ]
  },
  {
   "cell_type": "markdown",
   "metadata": {},
   "source": [
    "Declaramos variables de entrada"
   ]
  },
  {
   "cell_type": "code",
   "execution_count": 26,
   "metadata": {},
   "outputs": [
    {
     "name": "stdout",
     "output_type": "stream",
     "text": [
      "La distancia entre ambos planetas es 100000\n"
     ]
    }
   ],
   "source": [
    "planeta1=int(input(\"Digita la distancia del primer planeta\"))\n",
    "planeta2=int(input(\"Digita la distancia del segundo planeta\"))\n",
    "\n",
    "distancia=abs(planeta2-planeta1)\n",
    "\n",
    "print(\"La distancia entre ambos planetas es \"+str(distancia))"
   ]
  },
  {
   "cell_type": "markdown",
   "metadata": {},
   "source": [
    "Convertimos a millas"
   ]
  },
  {
   "cell_type": "code",
   "execution_count": 27,
   "metadata": {},
   "outputs": [
    {
     "name": "stdout",
     "output_type": "stream",
     "text": [
      "62100.0 millas\n"
     ]
    }
   ],
   "source": [
    "distanciaMillas=distancia*0.621\n",
    "print(str(distanciaMillas)+\" millas\")\n"
   ]
  }
 ],
 "metadata": {
  "interpreter": {
   "hash": "31e8d0331f9aa07793fd671b7598b627266d7264bd9cec7cc60d8c8b27072cc5"
  },
  "kernelspec": {
   "display_name": "Python 3.9.1 64-bit",
   "language": "python",
   "name": "python3"
  },
  "language_info": {
   "codemirror_mode": {
    "name": "ipython",
    "version": 3
   },
   "file_extension": ".py",
   "mimetype": "text/x-python",
   "name": "python",
   "nbconvert_exporter": "python",
   "pygments_lexer": "ipython3",
   "version": "3.9.1"
  },
  "orig_nbformat": 4
 },
 "nbformat": 4,
 "nbformat_minor": 2
}
