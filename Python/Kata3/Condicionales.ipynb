{
 "cells": [
  {
   "cell_type": "markdown",
   "metadata": {},
   "source": [
    "Creamos una funcion y la llamaremos \"condicional\""
   ]
  },
  {
   "cell_type": "code",
   "execution_count": 1,
   "metadata": {},
   "outputs": [],
   "source": [
    "\n",
    "def condicional(velocidad):\n",
    "    if (velocidad>25):\n",
    "        if(velocidad>=49):\n",
    "            print(\"Asteroide peligroso, viaja a más de 49Km/s\")\n",
    "        else:\n",
    "            print(\"Asteroide con mas de 25km/s\")\n",
    "    elif(velocidad>=20):\n",
    "        print(\"Mirar el cielo, asteroide entrando a la tierra, el cielo cambiará de color\")\n",
    "    elif(velocidad==0):\n",
    "        print(\"No se detecta asteroide\")\n",
    "    else:\n",
    "        print(\"Asteroide no peligroso entrando a la atmósfera\")"
   ]
  },
  {
   "cell_type": "markdown",
   "metadata": {},
   "source": [
    "Creamos una funcion para condicionales con and y or"
   ]
  },
  {
   "cell_type": "code",
   "execution_count": 2,
   "metadata": {},
   "outputs": [],
   "source": [
    "def operadores(velocidad,tamanio):\n",
    "    if(tamanio>25 and tamanio<100):\n",
    "        print(\"Este asteroide mide \"+str(tamanio)+\" y causará daño a la Tierra\")\n",
    "    elif(velocidad>25):\n",
    "        print(\"La velocidad es de \"+str(velocidad)+\" y puede llegar a ser peligroso\")\n",
    "    elif(velocidad<20):\n",
    "        print(\"Asteroide no peligros entrando a la tierra, mirar el cielo\")\n",
    "    "
   ]
  },
  {
   "cell_type": "markdown",
   "metadata": {},
   "source": [
    "Creamos una funcion principal"
   ]
  },
  {
   "cell_type": "code",
   "execution_count": 3,
   "metadata": {},
   "outputs": [
    {
     "name": "stdout",
     "output_type": "stream",
     "text": [
      "Mirar el cielo, asteroide entrando a la tierra, el cielo cambiará de color\n",
      "Asteroide no peligroso entrando a la atmósfera\n",
      "Asteroide peligroso, viaja a más de 49Km/s\n",
      "No se detecta asteroide\n",
      "La velocidad es de 33 y puede llegar a ser peligroso\n"
     ]
    }
   ],
   "source": [
    "def run():\n",
    "    condicional(20)\n",
    "    condicional(13)\n",
    "    condicional(50)\n",
    "    condicional(0)\n",
    "\n",
    "    operadores(33,23)\n",
    "\n",
    "if __name__==\"__main__\":\n",
    "    run()"
   ]
  }
 ],
 "metadata": {
  "interpreter": {
   "hash": "31e8d0331f9aa07793fd671b7598b627266d7264bd9cec7cc60d8c8b27072cc5"
  },
  "kernelspec": {
   "display_name": "Python 3.9.1 64-bit",
   "language": "python",
   "name": "python3"
  },
  "language_info": {
   "codemirror_mode": {
    "name": "ipython",
    "version": 3
   },
   "file_extension": ".py",
   "mimetype": "text/x-python",
   "name": "python",
   "nbconvert_exporter": "python",
   "pygments_lexer": "ipython3",
   "version": "3.9.1"
  },
  "orig_nbformat": 4
 },
 "nbformat": 4,
 "nbformat_minor": 2
}
