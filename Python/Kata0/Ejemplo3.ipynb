{
 "cells": [
  {
   "cell_type": "markdown",
   "metadata": {},
   "source": [
    "Velocidad de la nave\n",
    "\n",
    "Definimos nuestras variables:"
   ]
  },
  {
   "cell_type": "code",
   "execution_count": 25,
   "metadata": {},
   "outputs": [],
   "source": [
    "finVelocidad=11200\n",
    "inicioVelocidad=0\n",
    "aceleracion=9.81"
   ]
  },
  {
   "cell_type": "markdown",
   "metadata": {},
   "source": [
    "Utilizamos la formula del tiempo en relacion con la velocidad y aceleracion"
   ]
  },
  {
   "cell_type": "code",
   "execution_count": 26,
   "metadata": {},
   "outputs": [],
   "source": [
    "tiempo=(finVelocidad-inicioVelocidad)/aceleracion"
   ]
  },
  {
   "cell_type": "markdown",
   "metadata": {},
   "source": [
    "Imprimimos el valor"
   ]
  },
  {
   "cell_type": "code",
   "execution_count": 27,
   "metadata": {},
   "outputs": [
    {
     "name": "stdout",
     "output_type": "stream",
     "text": [
      "Tiempo para alcanzar la velocidad deseada =1141.69 [seg]\n"
     ]
    }
   ],
   "source": [
    "print(\"Tiempo para alcanzar la velocidad deseada ={:.2f}\".format(tiempo),\"[seg]\")"
   ]
  }
 ],
 "metadata": {
  "interpreter": {
   "hash": "31e8d0331f9aa07793fd671b7598b627266d7264bd9cec7cc60d8c8b27072cc5"
  },
  "kernelspec": {
   "display_name": "Python 3.9.1 64-bit",
   "language": "python",
   "name": "python3"
  },
  "language_info": {
   "codemirror_mode": {
    "name": "ipython",
    "version": 3
   },
   "file_extension": ".py",
   "mimetype": "text/x-python",
   "name": "python",
   "nbconvert_exporter": "python",
   "pygments_lexer": "ipython3",
   "version": "3.9.1"
  },
  "orig_nbformat": 4
 },
 "nbformat": 4,
 "nbformat_minor": 2
}
